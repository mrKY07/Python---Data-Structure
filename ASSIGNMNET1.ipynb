{
  "nbformat": 4,
  "nbformat_minor": 0,
  "metadata": {
    "colab": {
      "provenance": []
    },
    "kernelspec": {
      "name": "python3",
      "display_name": "Python 3"
    },
    "language_info": {
      "name": "python"
    }
  },
  "cells": [
    {
      "cell_type": "markdown",
      "source": [
        "**Data Types and Structures Questions**\n",
        "Data Types and Structures Questions\n",
        "\n",
        "Q1 What are data structures, and why are they important\n",
        "\n",
        "->\n",
        "Data structures in Python refer to the way data is organized,stored,and managed.\n",
        "This data is organized, stored and managed in memory, to perform operations   efficiently and it can be easily accessed and used by computer programs.\n",
        "This data is organized, stored and managed in memory, to perform operations\n",
        "efficiently and it can be easily accessed and used by computer programs.\n",
        "There are various data structures such as lists, tuples, sets, and dictionaries, and every data structure has a specific format for organizing, processing, retrieving and storing data, allowing data to be manipulated in various ways by users and computer systems.\n",
        "Data structures help organize and manage data efficiently.\n",
        "Data structure ensures that programs run faster and use less memory hence complexity becomes less .\n",
        "Well-chosen data structures make code easier to understand and maintain.\n",
        "Useful in complex problem-solving scenarios.\n",
        "\n"
      ],
      "metadata": {
        "id": "8hiVLLFPmJAF"
      }
    },
    {
      "cell_type": "markdown",
      "source": [
        "Q2 Explain the difference between mutable and immutable data types with examples\n",
        "\n",
        "->\n",
        "\n",
        "Mutable and Immutable data types refer to whether or not an object’s value can be changed after it is created.\n",
        "Mutable Data Types\n",
        "A mutable data type is one whose value can be modified after creation without changing its memory address.\n",
        "\n",
        "This means we can modify or update the  elements of the objects after they are created. Mutable data types consist of set,dictionary and list.\n",
        "Example:-\n",
        "list_2=[1,2,3,4]\n",
        "\n",
        "list_2.append(10)\n",
        "\n",
        "print(list_2)\n",
        "\n",
        "Immutable Data Types\n",
        "An immutable data type is one whose value cannot be changed after it is created. Any modification results in the creation of a new object in memory rather than modifying the existing one.Immutable data type consists of tuple and string.\n",
        "Example:-\n",
        "tuple1 = (1, 2, 3)\n",
        "tuple1[0] = 10  # This will cause an error"
      ],
      "metadata": {
        "id": "0cJYa43I9W0d"
      }
    },
    {
      "cell_type": "markdown",
      "source": [],
      "metadata": {
        "id": "LEoO7q_poH4N"
      }
    },
    {
      "cell_type": "markdown",
      "source": [
        "\n",
        "Q3 What are the main differences between lists and tuples in Python\n",
        "\n",
        "->\n",
        "List :\n",
        "\n",
        "List are changeable means they are mutable in nature.\n",
        "\n",
        "They use square brackets for declaration.\n",
        "\n",
        "They are slower than Tuples as they use more memory.\n",
        "\n",
        "They are more flexible and can be modifies frequently .\n",
        "\n",
        "Tuples :\n",
        "\n",
        "Tuples are not changeable means they are immutable in nature.\n",
        "\n",
        "They use Parentheses also called as round brackets for declaration .\n",
        "\n",
        "They are faster than List as they use less memory.\n",
        "\n",
        "They are not flexible , rigid and are not modified frequently"
      ],
      "metadata": {
        "id": "kc_3oEEK93EM"
      }
    },
    {
      "cell_type": "markdown",
      "source": [
        "Q4 Describe how dictionaries store data\n",
        "\n",
        "A dictionary is a collection which is ordered, changeable and does not allow duplicates.\n",
        "Dictionary is a data structure that stores data in key-value pairs.\n",
        "Values in a dictionary can be of any data type and can be duplicated, whereas keys can’t be repeated and must be immutable.\n",
        "It uses curly brackets for declaration and have a colon between the key and value.\n",
        "Its syntax is\n",
        "\n",
        "dic_name={key:value}\n",
        "\n",
        "This allows fast data retrieval by mapping unique keys to their associated values."
      ],
      "metadata": {
        "id": "uZPuWwoe-Jxz"
      }
    },
    {
      "cell_type": "markdown",
      "source": [
        "\n",
        "Q5 Why might you use a set instead of a list in Python\n",
        "\n",
        "Set and List both are somewhat similar and both sets and lists are used to store collections of elements, but they have slightly a difference :\n",
        "\n",
        "Set automatically removes duplicates.\n",
        "Sets allow easy union, intersection, and difference operations, which are harder to perform with lists.\n",
        "Checking if an element exists in a list takes O(n) time, but in a set, it takes O(1) time due to hashing.\n"
      ],
      "metadata": {
        "id": "-X_c33nB-RxE"
      }
    },
    {
      "cell_type": "markdown",
      "source": [
        "Q6 What is a string in Python, and how is it different from a list\n",
        "\n",
        "A string in Python is a sequence of characters.\n",
        "It is usually enclosed with single,double or triple quotes.\n",
        "It is used to represent text data.\n",
        "String stores characters whereas list stores any data type.\n",
        "String is immutable  whereas list is mutable.\n",
        "String cannot modify characters directly whereas List can change, add, or remove elements."
      ],
      "metadata": {
        "id": "ExgK82QJ-bdb"
      }
    },
    {
      "cell_type": "markdown",
      "source": [
        "\n",
        "Q7 How do tuples ensure data integrity in Python\n",
        "\n",
        "Tuples ensure data integrity by being immutable.\n",
        "Once a tuple is created its values cannot be modified.\n",
        "This ensures that important data remains unchanged throughout program execution."
      ],
      "metadata": {
        "id": "5JWA_m2D-eYr"
      }
    },
    {
      "cell_type": "markdown",
      "source": [
        "\n",
        "Q8 What is a hash table, and how does it relate to dictionaries in Python\n",
        "\n",
        "A hash table is a data structure\n",
        "This data structure stores key-value pairs and allows fast retrieval of values based on keys.\n",
        "\n",
        "Hash table uses a hash function to convert keys into unique indexes, making lookup, insertion, and deletion operations fast.\n",
        "\n",
        "In Python, dictionaries are implemented using hash tables, enabling efficient storage and retrieval of key-value pairs.\n",
        "Dictionaries store data as key-value pairs, where keys are unique and immutable, and values can be of any type.\n",
        "\n",
        "Hashing:\n",
        "\n",
        "When you access a value in a dictionary using its key, Python uses a hash function to determine the index (or bucket) where the value is stored.\n",
        "This hashing mechanism allows for near-constant time (O(1)) average-case performance for operations like lookup, insertion, and deletion."
      ],
      "metadata": {
        "id": "NOUYUlBT-mqZ"
      }
    },
    {
      "cell_type": "markdown",
      "source": [
        "Q9 Can lists contain different data types in Python?\n",
        "\n",
        "\n",
        "Yes, List can contain different data type.\n",
        "This data type can consist of float, integer , string , boolean values."
      ],
      "metadata": {
        "id": "9wLIfIoD_NgU"
      }
    },
    {
      "cell_type": "markdown",
      "source": [
        "Q10 Explain why strings are immutable in Python\n",
        "\n",
        "\n",
        "One reason for this immutability is memory efficiency. Python stores frequently used strings in a special memory area called a string interning pool, allowing them to be reused instead of creating multiple copies. If strings were mutable, modifying one would affect all references, leading to unexpected errors.\n",
        "Strings are commonly used as keys in dictionaries and elements in sets. If strings could be modified, their hash values would change, making it impossible to retrieve the correct values from a dictionary. By keeping them immutable, Python ensures that they remain stable and reliable.\n",
        "Immutability also helps prevent accidental changes. Since strings often store important data like usernames, file paths, and URLs, allowing modifications could lead to unintended errors. Instead of changing a string in place, Python encourages creating a new string when modifications are needed."
      ],
      "metadata": {
        "id": "sQwn17NI_RTr"
      }
    },
    {
      "cell_type": "markdown",
      "source": [
        "Q11  What advantages do dictionaries offer over lists for certain tasks\n",
        "\n",
        "Lists allow duplicate values, which can lead to confusion when searching for unique items whereas dictionaries automatically prevent duplicate keys, ensuring data integrity.\n",
        "\n",
        "\n",
        "In lists, inserting or deleting elements in the middle requires shifting elements but in dictionaries, updates and deletions are instant since they use hashing to store data.\n",
        "In a dictionary, values are accessed using keys, making search operation faster\n"
      ],
      "metadata": {
        "id": "RFN1o7nX_UtL"
      }
    },
    {
      "cell_type": "markdown",
      "source": [
        "Q12 Describe a scenario where using a tuple would be preferable over a list\n",
        "\n",
        "A tuple is preferable over a list in a scenario where data should remain unchanged after creation.\n",
        "Since tuples are immutable, they prevent accidental modifications, making them useful in cases where data integrity is important.\n",
        "\n",
        "A simple scenario would be storing date of birth where we dont want changes, using a tuple ensures the data remains fixed and unmodified.\n",
        "\n",
        "birthdate = (2002, 11, 05)\n"
      ],
      "metadata": {
        "id": "w8Kiepcg_W5r"
      }
    },
    {
      "cell_type": "markdown",
      "source": [
        "Q13 How Do Sets Handle Duplicate Values in Python?\n",
        "\n",
        "In Python, sets automatically remove duplicate values when storing elements.\n",
        "Unlike lists or tuples, which allow repeated values, a set only keeps unique elements.\n",
        "If we add elements to a set, Python checks if they already exist.\n",
        "If a duplicate is found, it is ignored and not added again."
      ],
      "metadata": {
        "id": "lG_sFjlx_6hL"
      }
    },
    {
      "cell_type": "markdown",
      "source": [
        "Q14 How does the “in” keyword work differently for lists and dictionarie\n",
        "\n",
        "\n",
        "The \"in\" keyword is used to check if an element exists in a list or dictionary but it slightly behaves differently for both the data structures\n",
        "In list the \"in\" checks if a value is present in the list or not whereas in the dictionary it checks if a key exists or not .\n",
        "\n",
        "For list python scans each element one by one to find a match  .\n",
        "It performs a linear search which results into a slower speed for searching while in dictionary It performs a fast lookup using hashing"
      ],
      "metadata": {
        "id": "0wIWxuYU__-L"
      }
    },
    {
      "cell_type": "markdown",
      "source": [
        "Q15 Can you modify the elements of a tuple? Explain why or why not\n",
        "\n",
        "You can't modify the elements of a tuple in Python because tuples are immutable. Once a tuple is created, its elements can’t be changed, added, or removed.\n",
        "This immutability exists because tuples are meant to store fixed data that shouldn't be altered. They are more reliable and efficient compared to lists. Since they can't be modified, Python optimizes memory usage and makes them faster to access.\n",
        "If you try to change an element inside a tuple, Python will throw an error"
      ],
      "metadata": {
        "id": "kAEILAT9AFjj"
      }
    },
    {
      "cell_type": "markdown",
      "source": [
        "Q16  What is a nested dictionary, and give an example of its use case\n",
        "\n",
        "A nested dictionary is a dictionary inside another dictionary. It allows you to store complex and structured data, where each key can have another dictionary as its value. This is useful for representing hierarchical or grouped information\n",
        "For example a  nested dictionary of employees where we have another dictionary of employee name,position and salary\n",
        "\n",
        "employees = {\n",
        "\n",
        "    \"emp1\": {\"name\": \"Tanmay\", \"position\": \"Manager\", \"salary\": 75000},\n",
        "    \"emp2\": {\"name\": \"Ajay\", \"position\": \"Developer\", \"salary\": 65000},\n",
        "    \"emp3\": {\"name\": \"Vijay\", \"position\": \"Designer\", \"salary\": 60000}\n",
        "}\n"
      ],
      "metadata": {
        "id": "uis2k32AAh2C"
      }
    },
    {
      "cell_type": "markdown",
      "source": [
        "\n",
        "Q17 Describe the time complexity of accessing elements in a dictionary\n",
        "\n",
        "Accessing elements in a dictionary is very fast in Python because dictionaries use a hashtable internally. This allows Python to find the value associated with a key almost instantly without searching through all elements.\n",
        "In most cases, the time complexity of accessing an element in a dictionary is constant regardless of the size of the dictionary.\n",
        "This happens because Python uses a hash function to generate a unique index for each key, allowing direct access to the value.\n",
        "However, in some rare cases, if multiple keys generate the same hash python may need to check multiple entries. In such cases, the time complexity can become O(n) in the worst case, but Python’s internal optimizations keep this very rare."
      ],
      "metadata": {
        "id": "kGEUQSEfAsZb"
      }
    },
    {
      "cell_type": "markdown",
      "source": [
        "\n",
        "Q18 In what situations are lists preferred over dictionaries\n",
        "\n",
        "\n",
        "When we need to store a collection of values without key-value pairs, a list is more straightforward and memory-efficient.\n",
        "\n",
        "Lists are optimized for iterating over elements, making them better when you need to process all items sequentially.\n",
        "\n",
        "If elements are accessed by position rather than a unique key, lists allow direct access using an index\n",
        "Lists are also preferred for small datasets where fast lookups by key are not required, lists are simpler and use less memory than dictionaries."
      ],
      "metadata": {
        "id": "wCElqi3zAuTz"
      }
    },
    {
      "cell_type": "markdown",
      "source": [
        "\n",
        "Q19 Why are dictionaries considered unordered, and how does that affect data retrieval\n",
        "\n",
        "In the past dictionaries were considered unordered in python because they used a hash table to store key-value pairs. Unlike lists, which maintain elements in a specific sequence.\n",
        "\n",
        "Dictionaries arranged data based on hash values, meaning the order of items was unpredictable before Python 3.7.\n",
        "However, starting from Python 3.7, dictionaries preserve insertion order—this means that elements appear in the order they were added.\n",
        "\n",
        "But internally, they still use hashing, so the retrieval speed remains fast.\n",
        "Since dictionaries use hashing, retrieving a value by its key is very fast.\n",
        "Unlike lists, we cannot access dictionary elements using numerical indexes\n",
        "Iteration Order Depends on Python Version:\n",
        "Before Python 3.7: The order of items during iteration was unpredictable.\n",
        "Python 3.7 and later: Items are retrieved in the same order they were inserted."
      ],
      "metadata": {
        "id": "iOA-JudBAyiD"
      }
    },
    {
      "cell_type": "markdown",
      "source": [
        "\n",
        "Q20 Explain the difference between a list and a dictionary in terms of data retrieval.\n",
        "\n",
        "In a list, we access elements using an index, whereas in a dictionary, we access them using a key .\n",
        "\n",
        "Lists are fast when accessing elements by index but slow when searching for a value. Dictionaries, on the other hand, provide very fast  retrieval when using keys.\n",
        "\n",
        "Lists always maintain insertion order, while dictionaries have preserved insertion order only since Python 3.7+.\n",
        "\n",
        "Lists support index-based access but dictionaries do not .\n",
        "\n",
        "Lists are best when you need an ordered\n",
        "collection of data, like a list of names, whereas dictionaries are ideal for fast lookups with unique labels, such as storing student details with names as keys.\n"
      ],
      "metadata": {
        "id": "jk9rxUg4BFWS"
      }
    },
    {
      "cell_type": "code",
      "source": [
        "# Practical Questions\n",
        "\n",
        "#1)Write a code to create a string with your name and print it\n",
        "\n",
        "name= input(\"enter your name\")\n",
        "print(\"Name:\",name)\n"
      ],
      "metadata": {
        "colab": {
          "base_uri": "https://localhost:8080/"
        },
        "id": "2h1JL2bwBbEi",
        "outputId": "19ed3665-bc9e-4012-9154-a11c20d76b81"
      },
      "execution_count": 31,
      "outputs": [
        {
          "output_type": "stream",
          "name": "stdout",
          "text": [
            "enter your namejh\n",
            "Name: jh\n"
          ]
        }
      ]
    },
    {
      "cell_type": "code",
      "source": [
        "#2) Write a code to find the length of the string \"Hello World\"\n",
        "\n",
        "len(\"Hello World\")"
      ],
      "metadata": {
        "colab": {
          "base_uri": "https://localhost:8080/"
        },
        "id": "rbuueDgqBjsD",
        "outputId": "8184fa95-2e26-4759-ac13-3e0d432b21f4"
      },
      "execution_count": 30,
      "outputs": [
        {
          "output_type": "execute_result",
          "data": {
            "text/plain": [
              "11"
            ]
          },
          "metadata": {},
          "execution_count": 30
        }
      ]
    },
    {
      "cell_type": "code",
      "source": [
        "#3)Write a code to slice the first 3 characters from the string \"Python Programming\"\n",
        "\n",
        "string1=\"Python Programming\"\n",
        "string1[3:]"
      ],
      "metadata": {
        "colab": {
          "base_uri": "https://localhost:8080/",
          "height": 36
        },
        "id": "HUFMmgvIBj_0",
        "outputId": "7a13e7f9-5f69-4a05-805c-1c00d92d1dbc"
      },
      "execution_count": 29,
      "outputs": [
        {
          "output_type": "execute_result",
          "data": {
            "text/plain": [
              "'hon Programming'"
            ],
            "application/vnd.google.colaboratory.intrinsic+json": {
              "type": "string"
            }
          },
          "metadata": {},
          "execution_count": 29
        }
      ]
    },
    {
      "cell_type": "code",
      "source": [
        "#*4) Write a code to convert the string \"hello\" to uppercase\n",
        "\n",
        "str=\"hello\"\n",
        "print(str.upper())\n"
      ],
      "metadata": {
        "colab": {
          "base_uri": "https://localhost:8080/"
        },
        "id": "j1bXpobyBnl6",
        "outputId": "57c001ee-f9bf-4d80-fe64-e858d8680203"
      },
      "execution_count": 28,
      "outputs": [
        {
          "output_type": "stream",
          "name": "stdout",
          "text": [
            "HELLO\n"
          ]
        }
      ]
    },
    {
      "cell_type": "code",
      "source": [
        "#5) Write a code to replace the word \"apple\" with \"orange\" in the string \"I like apple\"\n",
        "\n",
        "str= \"I like orange\"\n",
        "str.replace(\"orange\", \"apple\" )\n",
        "print(str)"
      ],
      "metadata": {
        "colab": {
          "base_uri": "https://localhost:8080/"
        },
        "id": "plYcauGyBna7",
        "outputId": "8e2f3bfe-a282-4dd7-deeb-662c7015c815"
      },
      "execution_count": 27,
      "outputs": [
        {
          "output_type": "stream",
          "name": "stdout",
          "text": [
            "I like orange\n"
          ]
        }
      ]
    },
    {
      "cell_type": "code",
      "source": [
        "#6) Write a code to create a list with numbers 1 to 5 and print it\n",
        "\n",
        "list_1=[1,2,3,4,5]\n",
        "print(list_1)"
      ],
      "metadata": {
        "colab": {
          "base_uri": "https://localhost:8080/"
        },
        "id": "dfgjm8Y6BnO7",
        "outputId": "aca000a4-2f07-4761-bdf8-02dad34667c0"
      },
      "execution_count": 26,
      "outputs": [
        {
          "output_type": "stream",
          "name": "stdout",
          "text": [
            "[1, 2, 3, 4, 5]\n"
          ]
        }
      ]
    },
    {
      "cell_type": "code",
      "source": [
        "#7)Write a code to append the number 10 to the list [1, 2, 3, 4]\n",
        "\n",
        "list_2=[1,2,3,4]\n",
        "list_2.append(10)\n",
        "print(list_2)"
      ],
      "metadata": {
        "colab": {
          "base_uri": "https://localhost:8080/"
        },
        "id": "mU3xh_HSBnFT",
        "outputId": "55200844-32a1-4c21-9e82-fc0dadeecccc"
      },
      "execution_count": 23,
      "outputs": [
        {
          "output_type": "stream",
          "name": "stdout",
          "text": [
            "[1, 2, 3, 4, 10]\n"
          ]
        }
      ]
    },
    {
      "cell_type": "code",
      "source": [
        "#8) Write a code to remove the number 3 from the list [1, 2, 3, 4, 5]\n",
        "\n",
        "\n",
        "list_3=[1,2,3,4]\n",
        "list_3.remove(3)\n",
        "print(list_3)"
      ],
      "metadata": {
        "colab": {
          "base_uri": "https://localhost:8080/"
        },
        "id": "ADf8yjDdBm5r",
        "outputId": "8c3b94e5-78de-412e-9ee2-ee19f3697e15"
      },
      "execution_count": 24,
      "outputs": [
        {
          "output_type": "stream",
          "name": "stdout",
          "text": [
            "[1, 2, 4]\n"
          ]
        }
      ]
    },
    {
      "cell_type": "code",
      "source": [
        "#9) Write a code to access the second element in the list ['a', 'b', 'c', 'd']\n",
        "\n",
        "list= ['a', 'b', 'c', 'd']\n",
        "list[2]"
      ],
      "metadata": {
        "colab": {
          "base_uri": "https://localhost:8080/",
          "height": 36
        },
        "id": "K1Oi9LhFBmvb",
        "outputId": "d8dfca50-ca4a-4901-f9a3-f7fb004daf11"
      },
      "execution_count": 25,
      "outputs": [
        {
          "output_type": "execute_result",
          "data": {
            "text/plain": [
              "'c'"
            ],
            "application/vnd.google.colaboratory.intrinsic+json": {
              "type": "string"
            }
          },
          "metadata": {},
          "execution_count": 25
        }
      ]
    },
    {
      "cell_type": "code",
      "source": [
        "#10) Write a code to reverse the list [10, 20, 30, 40, 50].\n",
        "\n",
        "list = [10, 20, 30, 40, 50]\n",
        "list[::-1]"
      ],
      "metadata": {
        "colab": {
          "base_uri": "https://localhost:8080/"
        },
        "id": "CHAyjal1Bmly",
        "outputId": "90eb9644-4468-40ef-a418-1cb9fb94860c"
      },
      "execution_count": 22,
      "outputs": [
        {
          "output_type": "execute_result",
          "data": {
            "text/plain": [
              "[50, 40, 30, 20, 10]"
            ]
          },
          "metadata": {},
          "execution_count": 22
        }
      ]
    },
    {
      "cell_type": "code",
      "source": [
        "#11).Write a code to create a tuple with the elements 100, 200, 300 and print it.\n",
        "\n",
        "tuple=(100, 200, 300)\n",
        "print(tuple)"
      ],
      "metadata": {
        "colab": {
          "base_uri": "https://localhost:8080/"
        },
        "id": "dFnRkJ6jBmbF",
        "outputId": "07f14322-26a0-4ecb-e5e3-e4d94df17305"
      },
      "execution_count": 21,
      "outputs": [
        {
          "output_type": "stream",
          "name": "stdout",
          "text": [
            "(100, 200, 300)\n"
          ]
        }
      ]
    },
    {
      "cell_type": "code",
      "source": [
        "#12) Write a code to access the second-to-last element of the tuple ('red', 'green', 'blue', 'yellow').\n",
        "\n",
        "tuple = ('red', 'green', 'blue', 'yellow')\n",
        "tuple[-2]"
      ],
      "metadata": {
        "colab": {
          "base_uri": "https://localhost:8080/",
          "height": 36
        },
        "id": "_NHxBzOLBmPz",
        "outputId": "7d694c89-6098-4b44-9cca-616da45b0668"
      },
      "execution_count": 20,
      "outputs": [
        {
          "output_type": "execute_result",
          "data": {
            "text/plain": [
              "'blue'"
            ],
            "application/vnd.google.colaboratory.intrinsic+json": {
              "type": "string"
            }
          },
          "metadata": {},
          "execution_count": 20
        }
      ]
    },
    {
      "cell_type": "code",
      "source": [
        "# 13. Write a code to find the minimum number in the tuple (10, 20, 5, 15).\n",
        "\n",
        "tuple_1 = (10, 20, 5, 15)\n",
        "min(tuple_1)"
      ],
      "metadata": {
        "colab": {
          "base_uri": "https://localhost:8080/"
        },
        "id": "w8NOkZKHBmCj",
        "outputId": "e639b8f7-b1ba-4665-89a9-6d1a19c3bdb4"
      },
      "execution_count": 19,
      "outputs": [
        {
          "output_type": "execute_result",
          "data": {
            "text/plain": [
              "5"
            ]
          },
          "metadata": {},
          "execution_count": 19
        }
      ]
    },
    {
      "cell_type": "code",
      "source": [
        "#14. Write a code to find the index of the element \"cat\" in the tuple ('dog', 'cat', 'rabbit').\n",
        "\n",
        "tuple=('dog', 'cat', 'rabbit')\n",
        "tuple.index( \"cat\")"
      ],
      "metadata": {
        "colab": {
          "base_uri": "https://localhost:8080/"
        },
        "id": "9OOainvfBl2b",
        "outputId": "77b217da-5c61-49e6-aae4-9c191d2a2d2d"
      },
      "execution_count": 18,
      "outputs": [
        {
          "output_type": "execute_result",
          "data": {
            "text/plain": [
              "1"
            ]
          },
          "metadata": {},
          "execution_count": 18
        }
      ]
    },
    {
      "cell_type": "code",
      "source": [
        "#15. Write a code to create a tuple containing three different fruits and check if \"kiwi\" is in it.\n",
        "\n",
        "tuple=(\"orange\", \"apple\" ,\"kiwi\")\n",
        "\"kiwi\" in tuple\n"
      ],
      "metadata": {
        "colab": {
          "base_uri": "https://localhost:8080/"
        },
        "id": "D74Y_26cBllK",
        "outputId": "78afbc8d-ce78-48e8-c0ed-0821a99aadd0"
      },
      "execution_count": 17,
      "outputs": [
        {
          "output_type": "execute_result",
          "data": {
            "text/plain": [
              "True"
            ]
          },
          "metadata": {},
          "execution_count": 17
        }
      ]
    },
    {
      "cell_type": "code",
      "source": [
        "#16. Write a code to create a set with the elements 'a', 'b', 'c' and print it.\n",
        "\n",
        "set1 ={ 'a', 'b', 'c'}\n",
        "print(set1)\n",
        "type(set1)"
      ],
      "metadata": {
        "colab": {
          "base_uri": "https://localhost:8080/"
        },
        "id": "vAJWDqYRCV6L",
        "outputId": "357e4e82-a43f-4a70-a4d0-6254895bfda9"
      },
      "execution_count": 16,
      "outputs": [
        {
          "output_type": "stream",
          "name": "stdout",
          "text": [
            "{'a', 'c', 'b'}\n"
          ]
        },
        {
          "output_type": "execute_result",
          "data": {
            "text/plain": [
              "set"
            ]
          },
          "metadata": {},
          "execution_count": 16
        }
      ]
    },
    {
      "cell_type": "code",
      "source": [
        "#17. Write a code to clear all elements from the set {1, 2, 3, 4, 5}.\n",
        "\n",
        "set1 ={1, 2, 3, 4, 5}\n",
        "set1.clear()\n",
        "print(set1)\n"
      ],
      "metadata": {
        "colab": {
          "base_uri": "https://localhost:8080/"
        },
        "id": "wbSaE6VQCVxb",
        "outputId": "10921102-5f7a-4da3-d396-fd4bfa4e306e"
      },
      "execution_count": 15,
      "outputs": [
        {
          "output_type": "stream",
          "name": "stdout",
          "text": [
            "set()\n"
          ]
        }
      ]
    },
    {
      "cell_type": "code",
      "source": [
        "#18. Write a code to remove the element 4 from the set {1, 2, 3, 4}.\n",
        "\n",
        "set1 = {1, 2, 3, 4}\n",
        "set1.remove(4)\n",
        "print(set1)\n"
      ],
      "metadata": {
        "colab": {
          "base_uri": "https://localhost:8080/"
        },
        "id": "ivptiWQYCVm0",
        "outputId": "eedc4e78-8e83-409c-ca4c-f2fea3042d78"
      },
      "execution_count": 14,
      "outputs": [
        {
          "output_type": "stream",
          "name": "stdout",
          "text": [
            "{1, 2, 3}\n"
          ]
        }
      ]
    },
    {
      "cell_type": "code",
      "source": [
        "#19. Write a code to find the union of two sets {1, 2, 3} and {3, 4, 5}.\n",
        "\n",
        "set1={1, 2, 3}\n",
        "set2={3, 4, 5}\n",
        "set3= set1 | set2\n",
        "set3"
      ],
      "metadata": {
        "colab": {
          "base_uri": "https://localhost:8080/"
        },
        "id": "gek-g5R9CVbb",
        "outputId": "2d91a732-cf42-4cb8-fe1c-82f82b1bddc1"
      },
      "execution_count": 12,
      "outputs": [
        {
          "output_type": "execute_result",
          "data": {
            "text/plain": [
              "{1, 2, 3, 4, 5}"
            ]
          },
          "metadata": {},
          "execution_count": 12
        }
      ]
    },
    {
      "cell_type": "code",
      "source": [
        "#20. Write a code to find the intersection of two sets {1, 2, 3} and {2, 3, 4}.\n",
        "\n",
        "set1={1, 2, 3}\n",
        "set2={2, 3, 4}\n",
        "set3= set1 & set2\n",
        "set3"
      ],
      "metadata": {
        "colab": {
          "base_uri": "https://localhost:8080/"
        },
        "id": "XzUdzM25CVQj",
        "outputId": "7e15ecc6-2a97-4b57-836e-33a799afb4e4"
      },
      "execution_count": 11,
      "outputs": [
        {
          "output_type": "execute_result",
          "data": {
            "text/plain": [
              "{2, 3}"
            ]
          },
          "metadata": {},
          "execution_count": 11
        }
      ]
    },
    {
      "cell_type": "code",
      "source": [
        "#21. Write a code to create a dictionary with the keys \"name\", \"age\", and \"city\", and print it.\n",
        "\n",
        "my_dict = { \"name\": \"Tanmay\", \"age\": 22, \"city\": \"Mumbai\" }\n",
        "print(my_dict)"
      ],
      "metadata": {
        "colab": {
          "base_uri": "https://localhost:8080/"
        },
        "id": "HjfpyCD0CVEa",
        "outputId": "d5f1a8e3-30c7-42a6-93da-97047c6dd559"
      },
      "execution_count": 10,
      "outputs": [
        {
          "output_type": "stream",
          "name": "stdout",
          "text": [
            "{'name': 'Tanmay', 'age': 22, 'city': 'Mumbai'}\n"
          ]
        }
      ]
    },
    {
      "cell_type": "code",
      "source": [
        "#22. Write a code to add a new key-value pair \"country\": \"USA\" to the dictionary {'name': 'John', 'age': 25}.\n",
        "\n",
        "dictionary=  {'name': 'John', 'age': 25}\n",
        "dictionary[\"country\"] = \"USA\"\n",
        "print(dictionary)"
      ],
      "metadata": {
        "colab": {
          "base_uri": "https://localhost:8080/"
        },
        "id": "T3SSLq1rCU6D",
        "outputId": "a3c85f6d-3678-4ce0-eaba-9e8df7c6dc41"
      },
      "execution_count": 8,
      "outputs": [
        {
          "output_type": "stream",
          "name": "stdout",
          "text": [
            "{'name': 'John', 'age': 25, 'country': 'USA'}\n"
          ]
        }
      ]
    },
    {
      "cell_type": "code",
      "source": [
        "#23. Write a code to access the value associated with the key \"name\" in the dictionary {'name': 'Alice', 'age': 30}.\n",
        "\n",
        "dictionary ={'name': 'Alice', 'age': 30}\n",
        "dictionary.get(\"name\")"
      ],
      "metadata": {
        "colab": {
          "base_uri": "https://localhost:8080/",
          "height": 36
        },
        "id": "0aNvhzNaCUtr",
        "outputId": "b53e9f36-ad65-4d25-b43d-9065cb1a1bfb"
      },
      "execution_count": 9,
      "outputs": [
        {
          "output_type": "execute_result",
          "data": {
            "text/plain": [
              "'Alice'"
            ],
            "application/vnd.google.colaboratory.intrinsic+json": {
              "type": "string"
            }
          },
          "metadata": {},
          "execution_count": 9
        }
      ]
    },
    {
      "cell_type": "code",
      "source": [
        "#24. Write a code to remove the key \"age\" from the dictionary {'name': 'Bob', 'age': 22, 'city': 'New York'}.\n",
        "\n",
        "dictionary= {'name': 'Bob', 'age': 22, 'city': 'New York'}\n",
        "dictionary.pop('age')\n",
        "dictionary"
      ],
      "metadata": {
        "colab": {
          "base_uri": "https://localhost:8080/"
        },
        "id": "wb73rz3ACUkL",
        "outputId": "0e19b60a-5bef-44fd-e575-04b4e5e0294c"
      },
      "execution_count": 7,
      "outputs": [
        {
          "output_type": "execute_result",
          "data": {
            "text/plain": [
              "{'name': 'Bob', 'city': 'New York'}"
            ]
          },
          "metadata": {},
          "execution_count": 7
        }
      ]
    },
    {
      "cell_type": "code",
      "source": [
        "#25. Write a code to check if the key \"city\" exists in the dictionary {'name': 'Alice', 'city': 'Paris'}.\n",
        "\n",
        "dictionary = {'name': 'Alice', 'city': 'Paris'}\n",
        "if \"city\" in dictionary:\n",
        "    print(\"Key exists.\")\n",
        "else:\n",
        "    print(\"Key does not exist.\")"
      ],
      "metadata": {
        "colab": {
          "base_uri": "https://localhost:8080/"
        },
        "id": "i-NElMRACUbb",
        "outputId": "30cbda89-6f2b-4850-c494-0a47001eb8b5"
      },
      "execution_count": 6,
      "outputs": [
        {
          "output_type": "stream",
          "name": "stdout",
          "text": [
            "Key exists.\n"
          ]
        }
      ]
    },
    {
      "cell_type": "code",
      "source": [
        "#26. Write a code to create a list, a tuple, and a dictionary, and print them all.\n",
        "\n",
        "list = [1, 2, 3, 4, 5]\n",
        "\n",
        "tuple = (10, 20, 30, 40, 50)\n",
        "\n",
        "dictionary = {'name': 'Tanmay', 'city': 'Mumbai'}\n",
        "\n",
        "print(\"List:\", list)\n",
        "print(\"Tuple:\", tuple)\n",
        "print(\"Dictionary:\", dictionary)"
      ],
      "metadata": {
        "colab": {
          "base_uri": "https://localhost:8080/"
        },
        "id": "DXXS25z_CURT",
        "outputId": "ef75dbb5-94b6-4467-ef64-c34d46a0c484"
      },
      "execution_count": 5,
      "outputs": [
        {
          "output_type": "stream",
          "name": "stdout",
          "text": [
            "List: [1, 2, 3, 4, 5]\n",
            "Tuple: (10, 20, 30, 40, 50)\n",
            "Dictionary: {'name': 'Tanmay', 'city': 'Mumbai'}\n"
          ]
        }
      ]
    },
    {
      "cell_type": "code",
      "source": [
        "'''27. Write a code to create a list of 5 random numbers between 1 and 100, sort it in ascending order, and print the\n",
        "result.(replaced)'''\n",
        "\n",
        "n = 5  # Size of the list\n",
        "user_list = []\n",
        "\n",
        "for i in range(n):\n",
        "    while True:  # Keep asking until a valid input is provided\n",
        "        element = int(input(f\"Enter element {i+1} (between 1 and 100): \"))\n",
        "        if 1 <= element <= 100:\n",
        "            user_list.append(element)\n",
        "            break  # Exit the loop if input is valid\n",
        "        else:\n",
        "            print(\"Invalid input! Please enter a number between 1 and 100.\")\n",
        "user_list.sort()\n",
        "print(\"Sorted List:\", user_list)"
      ],
      "metadata": {
        "colab": {
          "base_uri": "https://localhost:8080/"
        },
        "id": "PRi-SLekCUIk",
        "outputId": "4a8d0481-1886-4834-d593-2bd0fe1dd23c"
      },
      "execution_count": 4,
      "outputs": [
        {
          "output_type": "stream",
          "name": "stdout",
          "text": [
            "Enter element 1 (between 1 and 100): 4\n",
            "Enter element 2 (between 1 and 100): 8\n",
            "Enter element 3 (between 1 and 100): 6\n",
            "Enter element 4 (between 1 and 100): 7\n",
            "Enter element 5 (between 1 and 100): 1\n",
            "Sorted List: [1, 4, 6, 7, 8]\n"
          ]
        }
      ]
    },
    {
      "cell_type": "code",
      "source": [
        "#28. Write a code to create a list with strings and print the element at the third index.\n",
        "\n",
        "list2=['Tanmay','Ajay','Vijay','Jay']\n",
        "list2[3]"
      ],
      "metadata": {
        "colab": {
          "base_uri": "https://localhost:8080/",
          "height": 36
        },
        "id": "7ea6dhdTCUAr",
        "outputId": "16e171fc-60ae-4d45-8517-ddb86eeea93f"
      },
      "execution_count": 3,
      "outputs": [
        {
          "output_type": "execute_result",
          "data": {
            "text/plain": [
              "'Jay'"
            ],
            "application/vnd.google.colaboratory.intrinsic+json": {
              "type": "string"
            }
          },
          "metadata": {},
          "execution_count": 3
        }
      ]
    },
    {
      "cell_type": "code",
      "source": [
        "#29. Write a code to combine two dictionaries into one and print the result.\n",
        "\n",
        "dictionary1 = {'Name': 'Tanmay', 'City': 'Mumbai'}\n",
        "dictionary2 = {'Age': 22 , 'Gender': 'Male'}\n",
        "dictionary3 = dictionary1 | dictionary2\n",
        "print(dictionary3)"
      ],
      "metadata": {
        "colab": {
          "base_uri": "https://localhost:8080/"
        },
        "id": "Sx2YUu7eCT4D",
        "outputId": "4e4e3dd1-f284-4de1-af0e-a014bbeea484"
      },
      "execution_count": 2,
      "outputs": [
        {
          "output_type": "stream",
          "name": "stdout",
          "text": [
            "{'Name': 'Tanmay', 'City': 'Mumbai', 'Age': 22, 'Gender': 'Male'}\n"
          ]
        }
      ]
    },
    {
      "cell_type": "code",
      "source": [
        "#30. Write a code to convert a list of strings into a set.\n",
        "\n",
        "list2=['Tanmay','Ajay','Vijay','Jay']\n",
        "string_set = set(list2)\n",
        "\n",
        "print(\"Set:\", string_set)"
      ],
      "metadata": {
        "colab": {
          "base_uri": "https://localhost:8080/"
        },
        "id": "CGcYW_TnCTv8",
        "outputId": "707488c9-0a0d-4f4c-d33a-d3bbc0cd2941"
      },
      "execution_count": 1,
      "outputs": [
        {
          "output_type": "stream",
          "name": "stdout",
          "text": [
            "Set: {'Ajay', 'Tanmay', 'Vijay', 'Jay'}\n"
          ]
        }
      ]
    }
  ]
}